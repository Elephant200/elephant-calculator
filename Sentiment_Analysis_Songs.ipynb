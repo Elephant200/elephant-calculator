{
  "nbformat": 4,
  "nbformat_minor": 0,
  "metadata": {
    "colab": {
      "provenance": [],
      "include_colab_link": true
    },
    "kernelspec": {
      "name": "python3",
      "display_name": "Python 3"
    },
    "language_info": {
      "name": "python"
    }
  },
  "cells": [
    {
      "cell_type": "markdown",
      "metadata": {
        "id": "view-in-github",
        "colab_type": "text"
      },
      "source": [
        "<a href=\"https://colab.research.google.com/github/Elephant200/elephant-calculator/blob/main/Sentiment_Analysis_Songs.ipynb\" target=\"_parent\"><img src=\"https://colab.research.google.com/assets/colab-badge.svg\" alt=\"Open In Colab\"/></a>"
      ]
    },
    {
      "cell_type": "markdown",
      "source": [
        "# Sentiment Analysis for Songs\n",
        "\n",
        "In this assignment you're going to try assigning sentiments to songs from the songs dataset.\n",
        "\n",
        "Questions:\n",
        "- Pick an artist:\n",
        "    - What's their most negative song?\n",
        "    - What's their most postitive song?\n",
        "- Who is the most postitive artist in the dataset?\n",
        "- Who is the most negative artist in the dataset?\n",
        "\n",
        "\n",
        "## Loading the Song Lyrics Dataset\n",
        "\n",
        "```python\n",
        "from google.colab import drive\n",
        "import pandas as pd\n",
        "\n",
        "drive.mount('/content/gdrive')\n",
        "df = pd.read_csv('/content/gdrive/My Drive/datasets/songs.csv')\n",
        "```\n",
        "\n",
        "## Getting out the lyrics of every song\n",
        "\n",
        "```python\n",
        "all_terms = df['Lyrics'].str.cat(sep=\" \").split()\n",
        "```\n",
        "\n",
        "## Getting the terms out of a specific song\n",
        "\n",
        "```python\n",
        "tylor_df = df[df[\"Artist\"] == \"Taylor Swift\"]\n",
        "lover_song_lyrics = taylor_df[df[\"Title\"] == \"Lover\"].iloc[0][\"Lyrics\"]\n",
        "lover_song_terms = lover_song_lyrics.split()\n",
        "```\n",
        "\n",
        "## The Sentiment Analysis Example from our Slides\n",
        "\n",
        "```python\n",
        "from textblob import TextBlob\n",
        "\n",
        "sentence = \"I am very unhappy with this product.\"\n",
        "blob = TextBlob(sentence)\n",
        "\n",
        "# Note, positive polarity means positive sentiment, negative means negative sentiment.\n",
        "print(f\"Sentiment Polarity: {blob.sentiment.polarity}\")\n",
        "print(f\"Sentiment Subjectivity: {blob.sentiment.subjectivity}\")\n",
        "print(f\"Assessments: {blob.sentiment_assessments.assessments}\")\n",
        "```\n",
        "\n",
        "## Applying a Function to Every Row to Create a new Series\n",
        "\n",
        "You may want to treat sentiment as a new column in your dataset. You can do this with pandas using the `.apply` method!\n",
        "\n",
        "Here's an example of me calculating a simple word count column for the songs dataframe.\n",
        "\n",
        "```python\n",
        "def lyrics_count(row):\n",
        "    words = row[\"Lyrics\"].split()\n",
        "    num_words = len(words)\n",
        "    return num_words\n",
        "\n",
        "df[\"Lyrics Word Count\"] = df.apply(lyrics_count, axis=1)\n",
        "```\n",
        "\n",
        "## Preprocessing\n",
        "\n",
        "Copied and pasted from our last assignment\n",
        "\n",
        "```python\n",
        "import spacy\n",
        "\n",
        "nlp = spacy.load(\"en_core_web_sm\")\n",
        "\n",
        "def preprocess_song_lyrics(song_lyrics):\n",
        "    tokens = []\n",
        "    for token in nlp(song_lyrics):\n",
        "        if not token.is_punct and not token.is_stop:\n",
        "            lemma = token.lemma_\n",
        "            lower = lemma.lower()\n",
        "            tokens.append(lower)\n",
        "    return \" \".join(tokens)\n",
        "```"
      ],
      "metadata": {
        "id": "5dRZ_52fGJJS"
      }
    },
    {
      "cell_type": "code",
      "source": [
        "from google.colab import drive\n",
        "import pandas as pd\n",
        "\n",
        "drive.mount('/content/gdrive')\n",
        "df = pd.read_csv('/content/gdrive/My Drive/datasets/songs.csv')\n",
        "df"
      ],
      "metadata": {
        "id": "CBA13oZUUZlk",
        "colab": {
          "base_uri": "https://localhost:8080/",
          "height": 365
        },
        "outputId": "bdc15dfd-3e66-44c7-d10c-f99321712c8d"
      },
      "execution_count": null,
      "outputs": [
        {
          "output_type": "error",
          "ename": "ValueError",
          "evalue": "mount failed",
          "traceback": [
            "\u001b[0;31m---------------------------------------------------------------------------\u001b[0m",
            "\u001b[0;31mValueError\u001b[0m                                Traceback (most recent call last)",
            "\u001b[0;32m<ipython-input-1-5f9b2637a864>\u001b[0m in \u001b[0;36m<cell line: 0>\u001b[0;34m()\u001b[0m\n\u001b[1;32m      2\u001b[0m \u001b[0;32mimport\u001b[0m \u001b[0mpandas\u001b[0m \u001b[0;32mas\u001b[0m \u001b[0mpd\u001b[0m\u001b[0;34m\u001b[0m\u001b[0;34m\u001b[0m\u001b[0m\n\u001b[1;32m      3\u001b[0m \u001b[0;34m\u001b[0m\u001b[0m\n\u001b[0;32m----> 4\u001b[0;31m \u001b[0mdrive\u001b[0m\u001b[0;34m.\u001b[0m\u001b[0mmount\u001b[0m\u001b[0;34m(\u001b[0m\u001b[0;34m'/content/gdrive'\u001b[0m\u001b[0;34m)\u001b[0m\u001b[0;34m\u001b[0m\u001b[0;34m\u001b[0m\u001b[0m\n\u001b[0m\u001b[1;32m      5\u001b[0m \u001b[0mdf\u001b[0m \u001b[0;34m=\u001b[0m \u001b[0mpd\u001b[0m\u001b[0;34m.\u001b[0m\u001b[0mread_csv\u001b[0m\u001b[0;34m(\u001b[0m\u001b[0;34m'/content/gdrive/My Drive/datasets/songs.csv'\u001b[0m\u001b[0;34m)\u001b[0m\u001b[0;34m\u001b[0m\u001b[0;34m\u001b[0m\u001b[0m\n\u001b[1;32m      6\u001b[0m \u001b[0mdf\u001b[0m\u001b[0;34m\u001b[0m\u001b[0;34m\u001b[0m\u001b[0m\n",
            "\u001b[0;32m/usr/local/lib/python3.11/dist-packages/google/colab/drive.py\u001b[0m in \u001b[0;36mmount\u001b[0;34m(mountpoint, force_remount, timeout_ms, readonly)\u001b[0m\n\u001b[1;32m     98\u001b[0m \u001b[0;32mdef\u001b[0m \u001b[0mmount\u001b[0m\u001b[0;34m(\u001b[0m\u001b[0mmountpoint\u001b[0m\u001b[0;34m,\u001b[0m \u001b[0mforce_remount\u001b[0m\u001b[0;34m=\u001b[0m\u001b[0;32mFalse\u001b[0m\u001b[0;34m,\u001b[0m \u001b[0mtimeout_ms\u001b[0m\u001b[0;34m=\u001b[0m\u001b[0;36m120000\u001b[0m\u001b[0;34m,\u001b[0m \u001b[0mreadonly\u001b[0m\u001b[0;34m=\u001b[0m\u001b[0;32mFalse\u001b[0m\u001b[0;34m)\u001b[0m\u001b[0;34m:\u001b[0m\u001b[0;34m\u001b[0m\u001b[0;34m\u001b[0m\u001b[0m\n\u001b[1;32m     99\u001b[0m   \u001b[0;34m\"\"\"Mount your Google Drive at the specified mountpoint path.\"\"\"\u001b[0m\u001b[0;34m\u001b[0m\u001b[0;34m\u001b[0m\u001b[0m\n\u001b[0;32m--> 100\u001b[0;31m   return _mount(\n\u001b[0m\u001b[1;32m    101\u001b[0m       \u001b[0mmountpoint\u001b[0m\u001b[0;34m,\u001b[0m\u001b[0;34m\u001b[0m\u001b[0;34m\u001b[0m\u001b[0m\n\u001b[1;32m    102\u001b[0m       \u001b[0mforce_remount\u001b[0m\u001b[0;34m=\u001b[0m\u001b[0mforce_remount\u001b[0m\u001b[0;34m,\u001b[0m\u001b[0;34m\u001b[0m\u001b[0;34m\u001b[0m\u001b[0m\n",
            "\u001b[0;32m/usr/local/lib/python3.11/dist-packages/google/colab/drive.py\u001b[0m in \u001b[0;36m_mount\u001b[0;34m(mountpoint, force_remount, timeout_ms, ephemeral, readonly)\u001b[0m\n\u001b[1;32m    275\u001b[0m             \u001b[0;34m'https://research.google.com/colaboratory/faq.html#drive-timeout'\u001b[0m\u001b[0;34m\u001b[0m\u001b[0;34m\u001b[0m\u001b[0m\n\u001b[1;32m    276\u001b[0m         )\n\u001b[0;32m--> 277\u001b[0;31m       \u001b[0;32mraise\u001b[0m \u001b[0mValueError\u001b[0m\u001b[0;34m(\u001b[0m\u001b[0;34m'mount failed'\u001b[0m \u001b[0;34m+\u001b[0m \u001b[0mextra_reason\u001b[0m\u001b[0;34m)\u001b[0m\u001b[0;34m\u001b[0m\u001b[0;34m\u001b[0m\u001b[0m\n\u001b[0m\u001b[1;32m    278\u001b[0m     \u001b[0;32melif\u001b[0m \u001b[0mcase\u001b[0m \u001b[0;34m==\u001b[0m \u001b[0;36m4\u001b[0m\u001b[0;34m:\u001b[0m\u001b[0;34m\u001b[0m\u001b[0;34m\u001b[0m\u001b[0m\n\u001b[1;32m    279\u001b[0m       \u001b[0;31m# Terminate the DriveFS binary before killing bash.\u001b[0m\u001b[0;34m\u001b[0m\u001b[0;34m\u001b[0m\u001b[0m\n",
            "\u001b[0;31mValueError\u001b[0m: mount failed"
          ]
        }
      ]
    },
    {
      "cell_type": "code",
      "source": [],
      "metadata": {
        "id": "eXXxy4sUU37-"
      },
      "execution_count": null,
      "outputs": []
    }
  ]
}